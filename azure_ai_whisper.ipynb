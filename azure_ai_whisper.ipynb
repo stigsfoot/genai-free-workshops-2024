{
  "nbformat": 4,
  "nbformat_minor": 0,
  "metadata": {
    "colab": {
      "provenance": [],
      "authorship_tag": "ABX9TyOou7BeNTdh1zOC0at2BB/7",
      "include_colab_link": true
    },
    "kernelspec": {
      "name": "python3",
      "display_name": "Python 3"
    },
    "language_info": {
      "name": "python"
    }
  },
  "cells": [
    {
      "cell_type": "markdown",
      "metadata": {
        "id": "view-in-github",
        "colab_type": "text"
      },
      "source": [
        "<a href=\"https://colab.research.google.com/github/stigsfoot/genai-free-workshops-2024/blob/main/azure_ai_whisper.ipynb\" target=\"_parent\"><img src=\"https://colab.research.google.com/assets/colab-badge.svg\" alt=\"Open In Colab\"/></a>"
      ]
    },
    {
      "cell_type": "code",
      "source": [
        "!pip install -U openai-whisper"
      ],
      "metadata": {
        "id": "KXCGA1NOt4Rn"
      },
      "execution_count": null,
      "outputs": []
    },
    {
      "cell_type": "code",
      "source": [
        "!apt-get update\n",
        "!apt install ffmpeg\n"
      ],
      "metadata": {
        "id": "SrybYkpht7BB"
      },
      "execution_count": null,
      "outputs": []
    },
    {
      "cell_type": "code",
      "source": [
        "!pip install google-generativeai"
      ],
      "metadata": {
        "id": "9vRNQeV1Nj-m"
      },
      "execution_count": null,
      "outputs": []
    },
    {
      "cell_type": "code",
      "execution_count": null,
      "metadata": {
        "colab": {
          "base_uri": "https://localhost:8080/"
        },
        "id": "lQYM4Aj8t1M7",
        "outputId": "f1cb532f-74e3-4c02-9941-74758e4bb7fa"
      },
      "outputs": [
        {
          "output_type": "stream",
          "name": "stderr",
          "text": [
            "/usr/local/lib/python3.10/dist-packages/whisper/transcribe.py:115: UserWarning: FP16 is not supported on CPU; using FP32 instead\n",
            "  warnings.warn(\"FP16 is not supported on CPU; using FP32 instead\")\n"
          ]
        },
        {
          "output_type": "stream",
          "name": "stdout",
          "text": [
            " The text in video: \n",
            "  You know, I've been thinking, what if the relentless pursuit of AI supremacy is causing these tech behemoths to drift away from their core values? I want to talk about that. What's good community? I'm Noble Acres and I'm an AI risk manager at Byte Madam Research. I've been managing products for close to 13 years and I bring a lot of experience in that space and would love to have you join this YouTube journey to domesticify the patterns and practices and decisions that go into these tools that we use every day. And I'm just starting this journey and trying different formats. So do subscribe and provide your feedback on what works. So enough of that, enough about me. Let's circle back to that question, right? Are these tech giants in their sprint for AI dominance losing sight on their original missions? They're raison d'etre, right? I'm leaning towards yes and I'll tell you why. Take Google, for example, right? For instance, last year they completely were caught off guard, blindsided by the market's infatuation with open AI's breakthroughs. It momentarily or probably still sideline their foundational goal of organizing the world information, making it accessible to all in my personal opinion. In a rush, they launched Bord, which is now called Gemini, aiming to mirror GPT's success. It was a botched launch. It launched in France, they demoed something, it hallucinated or set something that was factually inaccurate and implemented their stock on day one. They've been playing catch up ever since. It's terrible. I feel like Google keeps forgetting that they were, in fact, trailblazers on many of these systems that even their competitors are using, right? Google invented the hardware to train deep neural networks efficiently. The competitors use that. Google pioneered natural language processing, worked a vac in sequence to sequence models and let's not forget the transform model. Yeah, the very T in GPT, right? It got me thinking and there's a curious trend of imitation over innovation so that we don't get stuck in the innovators dilemma. And I'll share what that is in the show notes or not really show notes, but in the description, still learning this whole YouTube thing. With giants opting for things like, oh, this chat GPT, it's tech space. We're going to launch Gemini or Bard and it's going to be tech space just because the attention is going to open AI. And in this video, I want to tackle two topics. I want to talk about what's causing this, this market pressure where GPT's launch set completely new expectations for conversational AI capabilities and how, in my opinion, this deviates from Google's mission. So that's the first thing. The second thing I want to talk about as part of that is to tackle conversational AI itself and why I feel chat is terrible as an interface and a user experience for companies like Google to invest in. So first, let's just tackle a little bit of history. Let's talk about market expectations of Google and the strategic investments in Gemini. And to look at how Gemini or Bard came to be and it's surprise, surprise, not a Google story at all, it's an open AI story and it started in 2015. That landscape, that tech landscape was forever changed. You had visionaries like Elia Sutskiver who came from Google, coincidentally. Greg Brockman, Sam Altman. They joined forces to form open AI. They even had Elon Musk in the mix somewhere, taking credit for other people's accomplishments. Allegedly, I don't know. I don't want to get sued. Their mission was audacious, it was ambitious, right? But it was clear to pioneer the development of artificial general intelligence, started with robots and then moved to language models and they've innovated a lot on top of technologies that Google brought to bear. They were working on teaching machines that wouldn't just mimic but supersede or just exceed human intellect across the board on various activities. This ambition was distinct from the get-go, setting them apart from the likes of Google, Microsoft paid attention to that and invested heavily. Their mission was completely distinct. It was centered on organizing the world's information and democratizing where as opening AI's is about democratizing intelligence. So again, two different results. The ethos behind the groundbreaking innovations like Dalai, a text-to-image service or this mind-blowing text-to-video service that was just announced a week from when this was being recorded called Sora and of course, chat GPT. GPT being the simple chat interface solving distinct problems defined by who OPEN AI wants to be when they grow up, right? This democratizer of all intelligence. And it makes sense that because of that ethos, that North Star, the conversation will be a conversation. It would be chat. On the other hand, Google's mission was again different to organize the world's information, making them universally accessible. Google's ethos was not just about information retrieval through chat. It was about making the vast expanse of all of the internet's information navigable and valuable for everyone where they are, right? Which is why they have mediums and delivery mechanisms such as or distribution mechanisms such as hardware, phones, embedded systems, and appliances, and my Google home over here and my watch, and back then, Google Glass. It goes beyond a conversational interface. Google is losing its way, which brings me to my second point. Could sex be the primary mode of communication where companies like Google are building on top of their tools with these intelligent models? Literally, we're building AGI, right? And the interface is going to be chat and text. It makes no sense. It doesn't sit right with me. It may work for OPEN AI again because their focus is completely different. And Google needs to innovate on their own using their delivery mechanisms like Nest, Android, and Google Home, and my Volvo with its Android automotive. Matter of fact, their service is like Google Workspace and Kaggle. What happened to Kaggle? Before hugging face was the mainstay in this conversation, they've completely forgotten about, wait a second, check, notes. Okay, as of this very moment, Kaggle just got mentioned in the news because Google just launched a new model called Gemma, and their model card is on Kaggle. So maybe there's hope for Kaggle after all. But the point stands, they've got so many mediums by which to deliver these modalities in they're not taking advantage of it. Rather, they're shoe-horning Gemini, or what they call duet, hold on. Nope. Duet's gone as of now. It's back to Gemini. Now everything is called Gemini, which Google, that's a completely different video. A sad one point. They've shoveled Gemini into IDEs, Workspace Apps, chat interfaces, and Google Sheets, and everything has a chat now, which is really frustrating to me because chat interfaces bring terrible user experience with something product and user researchers call the co-stop problem. Users are unsure how to begin, what they can ask. It exacerbates this cognitive load issue for them. That's why Trump's engineering is a thing, right? Because we have to learn how to speak to a machine, all of a sudden, right? Turn what my friend Alan Fersonberg calls, sort of fuzzy human language into sort of zeros and ones, something more gritty and finite. We know these generative AIs also hallucinate. So AI product managers, such as myself, tend to incorporate constraints on top of just bare text. Come like how we don't expect our users to type in SQL commands for everything and be SQL experts, prompt engineering, and SQL, that world had been crazy, right? But we have constraints. We hit layer interfaces and components on top of that. Look at the thoughtful, large language, moral integrations from companies like Adobe, or Notion, Mirror. It's just natural. It adds some friction onto that sort of blank canvas that is a text interface. And I think that's a good thing. Within this context, Google's ecosystem stands out as a beacon of untapped potential. Imagine the seamless integration of AI across all of platforms that they offer and the systems that the services that they offer from OmniPresent Google Search and their terrible integration of generative search experience, in my opinion. And the collaborative environment of Google Workspace, being more than just a little chat window tucked in the corner with what they're rolling out with, formerly known as Duet. Each of these mediums offer a unique avenue for AI to enhance our interactions with their technologies and making it more intuitive and more contextual. And most importantly, just more accessible, right? And so I'm just going to sort of land the plane here and to say, Google's journey this past year has been a powerful reminder that amidst the gold rush towards the next ground breaking innovation, it's crucial to stay anchored to our foundational why, our reason for being. For Google, it was about making the world's information universally accessible, and this principle should not be obscured with the allure of competing visions, right? It's a lesson that extends beyond corporate giants to each one of us, innovators, creators, navigating our paths through this tumultuous seas of progress. By the way, that little sentence was created by OpenAI's ChatGPT, which I actually don't like, but I'm going to keep it in. And so if this exploration of AI modalities and mediums and philosophical underpinnings of sorts of these tech giants like Google has sparked any curiosity in you, I invite you to join me on this journey, subscribe, follow, and stay tuned for some of my upcoming courses on this and other subjects. So we can dive more deeper and thank you for investing your time with me.\n"
          ]
        }
      ],
      "source": [
        "import whisper\n",
        "model = whisper.load_model(\"base\")\n",
        "result = model.transcribe(\"/content/mediums-google.mp3\")\n",
        "print(f' The text in video: \\n {result[\"text\"]}')"
      ]
    },
    {
      "cell_type": "code",
      "source": [
        "\n",
        "with open(\"/content/mediums-google-podcast-transcript.txt\", \"w\") as text_file:\n",
        "  text_file.write(result[\"text\"])\n"
      ],
      "metadata": {
        "id": "dzxeLh3yCCfu"
      },
      "execution_count": null,
      "outputs": []
    },
    {
      "cell_type": "code",
      "source": [
        "from google.colab import userdata\n",
        "\n",
        "vertex_key = userdata.get(\"VERTEX_KEY\")"
      ],
      "metadata": {
        "id": "NSOneSOURLdN"
      },
      "execution_count": null,
      "outputs": []
    },
    {
      "cell_type": "code",
      "source": [
        "import google.generativeai as genai\n",
        "\n",
        "genai.configure(api_key=vertex_key)"
      ],
      "metadata": {
        "id": "KKZ53IHxRPes"
      },
      "execution_count": null,
      "outputs": []
    },
    {
      "cell_type": "code",
      "source": [
        "# Set up the model\n",
        "generation_config = {\n",
        "  \"temperature\": 0.9,\n",
        "  \"top_p\": 1,\n",
        "  \"top_k\": 1,\n",
        "  \"max_output_tokens\": 2048,\n",
        "}\n",
        "\n",
        "safety_settings = [\n",
        "  {\n",
        "    \"category\": \"HARM_CATEGORY_HARASSMENT\",\n",
        "    \"threshold\": \"BLOCK_MEDIUM_AND_ABOVE\"\n",
        "  },\n",
        "  {\n",
        "    \"category\": \"HARM_CATEGORY_HATE_SPEECH\",\n",
        "    \"threshold\": \"BLOCK_MEDIUM_AND_ABOVE\"\n",
        "  },\n",
        "  {\n",
        "    \"category\": \"HARM_CATEGORY_SEXUALLY_EXPLICIT\",\n",
        "    \"threshold\": \"BLOCK_MEDIUM_AND_ABOVE\"\n",
        "  },\n",
        "  {\n",
        "    \"category\": \"HARM_CATEGORY_DANGEROUS_CONTENT\",\n",
        "    \"threshold\": \"BLOCK_MEDIUM_AND_ABOVE\"\n",
        "  },\n",
        "]\n",
        "\n",
        "model = genai.GenerativeModel(model_name=\"gemini-1.0-pro\",\n",
        "                              generation_config=generation_config,\n",
        "                              safety_settings=safety_settings)\n",
        "\n"
      ],
      "metadata": {
        "id": "XGzxHSwXMw2A"
      },
      "execution_count": null,
      "outputs": []
    },
    {
      "cell_type": "code",
      "source": [
        "\n",
        "prompt_parts = []\n",
        "with open(\"/content/mediums-google-podcast-transcript.txt\", \"r\") as f:\n",
        "  for line in f:\n",
        "    prompt_parts.append(line.strip())\n"
      ],
      "metadata": {
        "id": "paegC2KZO9F0"
      },
      "execution_count": null,
      "outputs": []
    },
    {
      "cell_type": "code",
      "source": [
        "response = model.generate_content(prompt_parts)\n",
        "print(response.text)"
      ],
      "metadata": {
        "colab": {
          "base_uri": "https://localhost:8080/",
          "height": 297
        },
        "id": "t7LiUMNEPsu0",
        "outputId": "9cb5057d-ea12-4998-ebef-4771515c5a0c"
      },
      "execution_count": null,
      "outputs": [
        {
          "output_type": "stream",
          "name": "stdout",
          "text": [
            "Sure, here are some thoughts and points of reference to keep in mind when considering the impact of relentless pursuit of AI supremacy on tech behemoths and their core values:\n",
            "\n",
            "* **Narrow Focus on AI Dominance:** The intense competition to achieve AI supremacy can lead tech companies to prioritize short-term gains over long-term goals and values. This may result in a shift in focus away from their core mission and values, as they chase after the latest advancements in AI.\n",
            "* **Imitation over Innovation:** In the race to stay ahead, tech giants may find themselves imitating the successes of their competitors rather than investing in their own unique innovations. This can lead to a lack of differentiation and a homogenization of products and services, as companies scramble to replicate the latest AI trends.\n",
            "* **User Experience and Ethical Concerns:** The relentless pursuit of AI supremacy may also compromise user experience and raise ethical concerns. For example, conversational AI interfaces may not always be the most appropriate or effective way to interact with certain products and services. Additionally, the rush to develop and deploy AI systems can lead to unintended consequences, such as bias, discrimination, and job displacement.\n",
            "* **Innovation in Delivery Mechanisms:** Tech giants should consider innovating on their own strengths and delivery mechanisms, rather than focusing solely on conversational AI. They have the resources and expertise to develop AI-powered experiences that are tailored to their specific products and services, leveraging their existing ecosystems and distribution channels.\n",
            "* **Balancing Competition and Values:** Striking a balance between competitive pressures and core values is crucial for tech companies. They need to find ways to embrace AI innovation while remaining true to their missions and values. This requires careful consideration of the long-term implications of their actions and a willingness to prioritize ethical and responsible AI development.\n",
            "\n",
            "Here are some additional references that you may find interesting:\n",
            "\n",
            "* [The Innovator's Dilemma](https://www.claytonchristensen.com/books/the-innovators-dilemma/) by Clayton M. Christensen\n",
            "* [The AI-Powered Enterprise: Harnessing the Power of Artificial Intelligence to Transform Your Business](https://www.amazon.com/AI-Powered-Enterprise-Harnessing-Artificial-Intelligence/dp/1119612304) by Thomas H. Davenport and Rajeev Ronanki\n",
            "* [Human + Machine: Reimagining Work in the Age of AI](https://www.amazon.com/Human-Machine-Reimagining-Work-Intelligence/dp/1260467517) by Paul R. Daugherty and  H. James Wilson\n",
            "\n",
            "Ultimately, the impact of the relentless pursuit of AI supremacy on tech behemoths and their core values is a complex issue with no easy answers. It requires careful consideration of the potential benefits and risks, as well as a commitment to ethical and responsible AI development.\n"
          ]
        }
      ]
    }
  ]
}